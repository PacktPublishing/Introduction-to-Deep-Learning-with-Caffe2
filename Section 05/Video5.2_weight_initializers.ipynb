{
 "cells": [
  {
   "cell_type": "markdown",
   "metadata": {},
   "source": [
    "# Initializers\n",
    "\n",
    "Assuming fairly reasonable data normalization, the expectation of the weights should be zero or close to it. It might be reasonable, then, to set all of the initial weights to zero because a positive initial weight will have further to go if it should actually be a negative weight and visa versa. This, however, does not work. If all of the weights are the same, they will all have the same error and the model will not learn anything - there is no source of asymmetry between the neurons. Instead, we keep the weights very close to zero but make them different by initializing them to small, non-zero numbers - this is weight initialization and in caffe2 fillers play the role of initializers. (Ref - datascience.stackexchange) "
   ]
  },
  {
   "cell_type": "markdown",
   "metadata": {},
   "source": [
    "Import all libraries"
   ]
  },
  {
   "cell_type": "code",
   "execution_count": 1,
   "metadata": {},
   "outputs": [
    {
     "name": "stderr",
     "output_type": "stream",
     "text": [
      "WARNING:root:This caffe2 python run does not have GPU support. Will run in CPU only mode.\n",
      "WARNING:root:Debug message: No module named caffe2_pybind11_state_gpu\n"
     ]
    },
    {
     "name": "stdout",
     "output_type": "stream",
     "text": [
      "Import Complete\n"
     ]
    }
   ],
   "source": [
    "from matplotlib import pyplot as plt            #Plotting the variables\n",
    "import numpy as np                              #Numeric array operations\n",
    "import time                                     #Clocking the cuntions \n",
    "\n",
    "from caffe2.python import core, workspace       #Core creates layers, workspace holds data  \n",
    "from caffe2.proto import caffe2_pb2             #Save layers as files\n",
    "print \"Import Complete\""
   ]
  },
  {
   "cell_type": "markdown",
   "metadata": {},
   "source": [
    "# 1. Filler: Constant\n",
    "\n",
    "Filler details: Generates a blob filled with a constant value. Usually used for filling biases."
   ]
  },
  {
   "cell_type": "code",
   "execution_count": 9,
   "metadata": {},
   "outputs": [
    {
     "data": {
      "text/plain": [
       "True"
      ]
     },
     "execution_count": 9,
     "metadata": {},
     "output_type": "execute_result"
    }
   ],
   "source": [
    "workspace.ResetWorkspace()"
   ]
  },
  {
   "cell_type": "code",
   "execution_count": 10,
   "metadata": {},
   "outputs": [
    {
     "name": "stdout",
     "output_type": "stream",
     "text": [
      "Current blobs in the workspace: [u'Y']\n",
      "\n",
      "output_data1 blob shape =  (1, 3, 100, 100)\n",
      "Y:\n",
      "[[[[1. 1. 1. ... 1. 1. 1.]\n",
      "   [1. 1. 1. ... 1. 1. 1.]\n",
      "   [1. 1. 1. ... 1. 1. 1.]\n",
      "   ...\n",
      "   [1. 1. 1. ... 1. 1. 1.]\n",
      "   [1. 1. 1. ... 1. 1. 1.]\n",
      "   [1. 1. 1. ... 1. 1. 1.]]\n",
      "\n",
      "  [[1. 1. 1. ... 1. 1. 1.]\n",
      "   [1. 1. 1. ... 1. 1. 1.]\n",
      "   [1. 1. 1. ... 1. 1. 1.]\n",
      "   ...\n",
      "   [1. 1. 1. ... 1. 1. 1.]\n",
      "   [1. 1. 1. ... 1. 1. 1.]\n",
      "   [1. 1. 1. ... 1. 1. 1.]]\n",
      "\n",
      "  [[1. 1. 1. ... 1. 1. 1.]\n",
      "   [1. 1. 1. ... 1. 1. 1.]\n",
      "   [1. 1. 1. ... 1. 1. 1.]\n",
      "   ...\n",
      "   [1. 1. 1. ... 1. 1. 1.]\n",
      "   [1. 1. 1. ... 1. 1. 1.]\n",
      "   [1. 1. 1. ... 1. 1. 1.]]]]\n",
      "\n"
     ]
    }
   ],
   "source": [
    "op = core.CreateOperator(\n",
    "    \"ConstantFill\",                      # The type of operator that we want to run\n",
    "    [],                                  # Inputs\n",
    "    [\"Y\"],                               # Output\n",
    "    value=1.0,\n",
    "    shape=[1,3,100,100],\n",
    ")\n",
    "\n",
    "workspace.RunOperatorOnce(op)\n",
    "\n",
    "print(\"Current blobs in the workspace: {}\\n\".format(workspace.Blobs()))\n",
    "output_data1 = workspace.FetchBlob(\"Y\")             #Fetching the data back\n",
    "print \"output_data1 blob shape = \", output_data1.shape\n",
    "print(\"Y:\\n{}\\n\".format(workspace.FetchBlob(\"Y\")))"
   ]
  },
  {
   "cell_type": "markdown",
   "metadata": {},
   "source": [
    "# 2. Filler: Diagonal\n",
    "\n",
    "Filler details: Generates a square blob filled with a constant value in its diagonal. Usually used for filling biases."
   ]
  },
  {
   "cell_type": "code",
   "execution_count": 11,
   "metadata": {},
   "outputs": [
    {
     "data": {
      "text/plain": [
       "True"
      ]
     },
     "execution_count": 11,
     "metadata": {},
     "output_type": "execute_result"
    }
   ],
   "source": [
    "workspace.ResetWorkspace()"
   ]
  },
  {
   "cell_type": "code",
   "execution_count": 12,
   "metadata": {},
   "outputs": [
    {
     "name": "stdout",
     "output_type": "stream",
     "text": [
      "Current blobs in the workspace: [u'Y']\n",
      "\n",
      "output_data1 blob shape =  (100, 100)\n",
      "Y:\n",
      "[[-1.5  0.   0.  ...  0.   0.   0. ]\n",
      " [ 0.  -1.5  0.  ...  0.   0.   0. ]\n",
      " [ 0.   0.  -1.5 ...  0.   0.   0. ]\n",
      " ...\n",
      " [ 0.   0.   0.  ... -1.5  0.   0. ]\n",
      " [ 0.   0.   0.  ...  0.  -1.5  0. ]\n",
      " [ 0.   0.   0.  ...  0.   0.  -1.5]]\n",
      "\n"
     ]
    }
   ],
   "source": [
    "op = core.CreateOperator(\n",
    "    \"DiagonalFill\",                      # The type of operator that we want to run\n",
    "    [],                                  # Inputs\n",
    "    [\"Y\"],                               # Output\n",
    "    value=-1.5,\n",
    "    shape=[100,100],\n",
    ")\n",
    "\n",
    "workspace.RunOperatorOnce(op)\n",
    "\n",
    "print(\"Current blobs in the workspace: {}\\n\".format(workspace.Blobs()))\n",
    "output_data1 = workspace.FetchBlob(\"Y\")             #Fetching the data back\n",
    "print \"output_data1 blob shape = \", output_data1.shape\n",
    "print(\"Y:\\n{}\\n\".format(workspace.FetchBlob(\"Y\")))"
   ]
  },
  {
   "cell_type": "markdown",
   "metadata": {},
   "source": [
    "# 3. Filler: Gaussian\n",
    "\n",
    "Filler details: Generates a blob filled with values generated by a guassian function when specified its mean and standard deviation. Usually used for filling weights.\n",
    "\n",
    "Filler Function: \n",
    "\n",
    "$$P(x) = \\frac{1}{{\\sigma \\sqrt {2\\pi } }}e^{{{ - \\left( {x - \\mu } \\right)^2 } / {2\\sigma ^2 }}} $$\n",
    "\n",
    "Standard deviation -> $$\\sigma$$ \n",
    "Mean -> $$\\mu$$\n"
   ]
  },
  {
   "cell_type": "code",
   "execution_count": 13,
   "metadata": {},
   "outputs": [
    {
     "data": {
      "text/plain": [
       "True"
      ]
     },
     "execution_count": 13,
     "metadata": {},
     "output_type": "execute_result"
    }
   ],
   "source": [
    "workspace.ResetWorkspace()"
   ]
  },
  {
   "cell_type": "code",
   "execution_count": 14,
   "metadata": {},
   "outputs": [
    {
     "name": "stdout",
     "output_type": "stream",
     "text": [
      "Current blobs in the workspace: [u'Y']\n",
      "\n",
      "output_data1 blob shape =  (1, 3, 100, 100)\n",
      "Y:\n",
      "[[[[-2.7208742e-02  1.8605140e+00  1.3401612e+00 ... -1.9459589e+00\n",
      "    -1.8355805e-01  1.1476872e+00]\n",
      "   [-1.0317578e+00 -9.2503387e-01 -1.6910071e+00 ...  3.2578641e-01\n",
      "    -1.3654517e+00  1.3249282e+00]\n",
      "   [ 3.3635072e-02 -5.2488256e-01  2.3202509e-01 ... -1.8634307e-01\n",
      "    -1.1979079e+00 -1.0280048e+00]\n",
      "   ...\n",
      "   [ 8.8207960e-02  7.0647252e-01 -3.4699577e-01 ... -1.3074943e-01\n",
      "    -1.4389457e+00  6.4721870e-01]\n",
      "   [ 8.1686094e-02  6.0301113e-01  1.4900988e+00 ... -2.0364556e-01\n",
      "     2.0474133e+00  7.7330679e-02]\n",
      "   [ 4.8054972e-01  3.4839222e-03  8.9275575e-01 ... -5.1768380e-01\n",
      "    -2.1811980e-03  1.3668978e+00]]\n",
      "\n",
      "  [[ 9.7451150e-01 -5.9634888e-01  9.0201288e-01 ...  9.3265849e-01\n",
      "     1.3032607e+00  4.5035738e-01]\n",
      "   [ 1.6507663e-01  5.1381654e-01 -1.1267667e+00 ...  2.8291878e-01\n",
      "     6.5497088e-01 -1.4248044e+00]\n",
      "   [ 1.2644882e+00 -1.5056279e+00  1.5272266e+00 ...  3.1550825e-01\n",
      "    -8.0058843e-02  1.7167157e-01]\n",
      "   ...\n",
      "   [-2.8999916e-01  1.1451903e-01  4.2892031e-02 ... -3.6466745e-01\n",
      "    -3.6197248e-01  4.2604268e-01]\n",
      "   [-1.4765109e-01  5.5755109e-01 -4.3774517e-03 ...  1.2451736e+00\n",
      "     6.1665148e-01  2.1281472e-01]\n",
      "   [ 1.6105829e+00 -1.1059363e+00 -1.9377102e-01 ...  7.0613515e-01\n",
      "     6.4738327e-01 -7.9295510e-01]]\n",
      "\n",
      "  [[ 3.8554838e-01  6.9727635e-01  2.2621980e+00 ... -9.7045016e-01\n",
      "     5.1554197e-01 -2.3615928e+00]\n",
      "   [ 1.4436101e+00  4.1594148e-01 -1.6310134e+00 ... -8.2417071e-01\n",
      "     2.1964912e+00 -1.4386165e+00]\n",
      "   [ 2.6058299e-02 -6.3266659e-01  1.1801107e-02 ... -9.0964317e-01\n",
      "    -7.5439829e-01  1.3403673e-02]\n",
      "   ...\n",
      "   [-1.0793796e+00 -4.0298498e-01  4.6788058e-01 ...  4.8233762e-01\n",
      "    -1.1308618e+00  1.4676535e+00]\n",
      "   [ 1.3476539e-01 -5.5186892e-01  1.0785526e+00 ...  6.3451594e-01\n",
      "     8.3761013e-01 -9.2774040e-01]\n",
      "   [-1.5518068e+00  4.0954259e-01  4.4642115e-01 ... -5.8935845e-01\n",
      "     1.3643577e+00 -2.2263863e+00]]]]\n",
      "\n"
     ]
    }
   ],
   "source": [
    "op = core.CreateOperator(\n",
    "    \"GaussianFill\",                      # The type of operator that we want to run\n",
    "    [],                                  # Inputs\n",
    "    [\"Y\"],                               # Output\n",
    "    mean=0.0,\n",
    "    std=1.0,\n",
    "    shape=[1,3,100,100],\n",
    ")\n",
    "\n",
    "workspace.RunOperatorOnce(op)\n",
    "\n",
    "print(\"Current blobs in the workspace: {}\\n\".format(workspace.Blobs()))\n",
    "output_data1 = workspace.FetchBlob(\"Y\")             #Fetching the data back\n",
    "print \"output_data1 blob shape = \", output_data1.shape\n",
    "print(\"Y:\\n{}\\n\".format(workspace.FetchBlob(\"Y\")))"
   ]
  },
  {
   "cell_type": "markdown",
   "metadata": {},
   "source": [
    "# 4. Filler: Uniform\n",
    "\n",
    "Filler details: Generates a blob filled with values generated by a uniform function when specified its minimum and maximum range values. Usually used for filling weights."
   ]
  },
  {
   "cell_type": "code",
   "execution_count": 15,
   "metadata": {},
   "outputs": [
    {
     "data": {
      "text/plain": [
       "True"
      ]
     },
     "execution_count": 15,
     "metadata": {},
     "output_type": "execute_result"
    }
   ],
   "source": [
    "workspace.ResetWorkspace()"
   ]
  },
  {
   "cell_type": "code",
   "execution_count": 16,
   "metadata": {},
   "outputs": [
    {
     "name": "stdout",
     "output_type": "stream",
     "text": [
      "Current blobs in the workspace: [u'Y']\n",
      "\n",
      "output_data1 blob shape =  (1, 3, 100, 100)\n",
      "Y:\n",
      "[[[[0.3392981  0.4920335  0.12651451 ... 0.26706678 0.23809844\n",
      "    0.7786376 ]\n",
      "   [0.9582259  0.452257   0.53275883 ... 0.9848189  0.59309095\n",
      "    0.2882785 ]\n",
      "   [0.0423877  0.919646   0.44542962 ... 0.2791455  0.2839331\n",
      "    0.60029805]\n",
      "   ...\n",
      "   [0.31680357 0.93511266 0.8756118  ... 0.59136283 0.25160292\n",
      "    0.26761258]\n",
      "   [0.9546697  0.8118115  0.9461675  ... 0.10610344 0.89939827\n",
      "    0.38373634]\n",
      "   [0.8475176  0.8458115  0.16170472 ... 0.51870036 0.11079739\n",
      "    0.07355351]]\n",
      "\n",
      "  [[0.87120175 0.58114386 0.5717167  ... 0.18553035 0.6062569\n",
      "    0.26734623]\n",
      "   [0.6092372  0.6974833  0.9690413  ... 0.9885078  0.67949283\n",
      "    0.48164305]\n",
      "   [0.6854583  0.23517719 0.31614122 ... 0.97349614 0.95112675\n",
      "    0.7181974 ]\n",
      "   ...\n",
      "   [0.15323745 0.11114889 0.45790488 ... 0.40893725 0.19110121\n",
      "    0.24365632]\n",
      "   [0.5102444  0.20981261 0.60793793 ... 0.2815019  0.42414168\n",
      "    0.37863564]\n",
      "   [0.87918913 0.8831598  0.5138676  ... 0.01872852 0.67938805\n",
      "    0.03222848]]\n",
      "\n",
      "  [[0.69934577 0.22825254 0.38999087 ... 0.9913785  0.54365426\n",
      "    0.18111461]\n",
      "   [0.5585565  0.99317694 0.03196645 ... 0.16590145 0.29820427\n",
      "    0.16992374]\n",
      "   [0.43259338 0.5949545  0.4614415  ... 0.14676209 0.80384266\n",
      "    0.40199292]\n",
      "   ...\n",
      "   [0.12445567 0.48591107 0.45858026 ... 0.62989044 0.5905612\n",
      "    0.01947493]\n",
      "   [0.58204824 0.9739704  0.98871386 ... 0.2918398  0.27094585\n",
      "    0.9742284 ]\n",
      "   [0.07405116 0.57341963 0.9808631  ... 0.7603709  0.6281704\n",
      "    0.18973325]]]]\n",
      "\n"
     ]
    }
   ],
   "source": [
    "op = core.CreateOperator(\n",
    "    \"UniformFill\",                      # The type of operator that we want to run\n",
    "    [],                                  # Inputs\n",
    "    [\"Y\"],                               # Output\n",
    "    mean=0.0,\n",
    "    std=1.0,\n",
    "    shape=[1,3,100,100],\n",
    ")\n",
    "\n",
    "workspace.RunOperatorOnce(op)\n",
    "\n",
    "print(\"Current blobs in the workspace: {}\\n\".format(workspace.Blobs()))\n",
    "output_data1 = workspace.FetchBlob(\"Y\")             #Fetching the data back\n",
    "print \"output_data1 blob shape = \", output_data1.shape\n",
    "print(\"Y:\\n{}\\n\".format(workspace.FetchBlob(\"Y\")))"
   ]
  },
  {
   "cell_type": "markdown",
   "metadata": {},
   "source": [
    "# 4. Filler: Xavier\n",
    "\n",
    "Filler details: One good way is to assign the weights from a Gaussian distribution. Obviously this distribution would have zero mean and some finite variance. With each passing layer, we want the variance to remain the same. This helps us keep the signal from exploding to a high value or vanishing to zero. In other words, we need to initialize the weights in such a way that the variance remains the same for x and y ($$y_i = w_i*x_i+b_i$$). This initialization process is known as Xavier initialization. (Ref - https://prateekvjoshi.com/2016/03/29/understanding-xavier-initialization-in-deep-neural-networks/) "
   ]
  },
  {
   "cell_type": "code",
   "execution_count": 17,
   "metadata": {},
   "outputs": [
    {
     "data": {
      "text/plain": [
       "True"
      ]
     },
     "execution_count": 17,
     "metadata": {},
     "output_type": "execute_result"
    }
   ],
   "source": [
    "workspace.ResetWorkspace()"
   ]
  },
  {
   "cell_type": "code",
   "execution_count": 18,
   "metadata": {},
   "outputs": [
    {
     "name": "stdout",
     "output_type": "stream",
     "text": [
      "Current blobs in the workspace: [u'Y']\n",
      "\n",
      "output_data1 blob shape =  (1, 3, 100, 100)\n",
      "Y:\n",
      "[[[[ 3.0201944e-03  7.4131228e-03 -5.6186179e-03 ... -8.3116293e-03\n",
      "     7.8045428e-03  2.5014654e-03]\n",
      "   [ 8.1959385e-03 -4.0988540e-03 -1.6142055e-04 ... -7.3929396e-03\n",
      "     5.2170977e-03  9.8491982e-03]\n",
      "   [ 9.8190047e-03  6.9875550e-03  3.9832573e-04 ... -5.0197700e-03\n",
      "    -7.1857339e-03 -7.5253607e-03]\n",
      "   ...\n",
      "   [ 1.8086806e-03 -1.1369744e-03  5.9120338e-03 ...  8.4073562e-03\n",
      "    -9.9160839e-03 -6.4746789e-03]\n",
      "   [-3.5037468e-03  7.0016365e-03 -3.3855508e-03 ... -1.5093265e-03\n",
      "     1.6281828e-03  3.2045748e-03]\n",
      "   [-3.4459378e-03 -5.8587031e-03  2.5901012e-05 ... -2.3018951e-03\n",
      "     6.5810326e-03  8.8225622e-03]]\n",
      "\n",
      "  [[-4.9506794e-03  3.9293896e-03  3.5598027e-03 ... -7.6840324e-03\n",
      "     6.0295481e-03 -1.9379416e-03]\n",
      "   [ 1.3587940e-03  7.7496525e-03  9.3707461e-03 ... -2.6909476e-03\n",
      "     3.2597240e-03  3.1501595e-03]\n",
      "   [-7.7265068e-03 -7.1961493e-03  8.8911932e-03 ... -9.3680806e-03\n",
      "     3.8622143e-03 -3.4846584e-03]\n",
      "   ...\n",
      "   [-6.1211782e-03 -5.7896543e-03  7.5046569e-03 ... -6.9517419e-03\n",
      "    -7.0610736e-04 -2.1802969e-03]\n",
      "   [ 4.8616109e-03 -4.6279989e-03  6.4920355e-03 ...  4.3891845e-03\n",
      "    -5.9151100e-03 -2.3029577e-03]\n",
      "   [ 1.5442660e-03  9.4822869e-03  5.7098418e-03 ... -9.0468880e-03\n",
      "    -8.4458897e-03  4.7589317e-03]]\n",
      "\n",
      "  [[ 4.2306166e-04 -7.0759170e-03  6.9209468e-03 ...  2.3635319e-03\n",
      "    -8.3014872e-03  4.9523367e-03]\n",
      "   [ 2.7364083e-03 -1.8320093e-03 -1.0893131e-03 ...  9.7377971e-04\n",
      "     2.3244144e-03 -4.1116890e-03]\n",
      "   [ 4.4959318e-03 -3.4551704e-03  3.6404375e-04 ...  4.5537325e-03\n",
      "    -3.5635750e-03  7.2868504e-03]\n",
      "   ...\n",
      "   [ 2.3661396e-03  4.5557786e-03  4.4833636e-03 ...  8.2709007e-03\n",
      "    -8.9421449e-03  1.6577682e-03]\n",
      "   [ 2.1822359e-03 -9.2939101e-03  6.8921223e-04 ... -5.2085677e-03\n",
      "     5.3352835e-03  2.3421887e-03]\n",
      "   [-2.2880095e-03  2.8175628e-03  9.7101554e-03 ... -3.7264191e-03\n",
      "     7.8347474e-03 -2.5754045e-03]]]]\n",
      "\n"
     ]
    }
   ],
   "source": [
    "op = core.CreateOperator(\n",
    "    \"XavierFill\",                      # The type of operator that we want to run\n",
    "    [],                                  # Inputs\n",
    "    [\"Y\"],                               # Output\n",
    "    shape=[1,3,100,100],\n",
    ")\n",
    "\n",
    "workspace.RunOperatorOnce(op)\n",
    "\n",
    "print(\"Current blobs in the workspace: {}\\n\".format(workspace.Blobs()))\n",
    "output_data1 = workspace.FetchBlob(\"Y\")             #Fetching the data back\n",
    "print \"output_data1 blob shape = \", output_data1.shape\n",
    "print(\"Y:\\n{}\\n\".format(workspace.FetchBlob(\"Y\")))"
   ]
  },
  {
   "cell_type": "markdown",
   "metadata": {},
   "source": [
    "# 4. Filler: MSRA\n",
    "\n",
    "Filler details: Variant of Xavier filler. Introduced in caffe v1."
   ]
  },
  {
   "cell_type": "code",
   "execution_count": 19,
   "metadata": {},
   "outputs": [
    {
     "data": {
      "text/plain": [
       "True"
      ]
     },
     "execution_count": 19,
     "metadata": {},
     "output_type": "execute_result"
    }
   ],
   "source": [
    "workspace.ResetWorkspace()"
   ]
  },
  {
   "cell_type": "code",
   "execution_count": 20,
   "metadata": {},
   "outputs": [
    {
     "name": "stdout",
     "output_type": "stream",
     "text": [
      "Current blobs in the workspace: [u'Y']\n",
      "\n",
      "output_data1 blob shape =  (1, 3, 100, 100)\n",
      "Y:\n",
      "[[[[-0.00677311 -0.01738431  0.01772585 ... -0.0013369   0.00993694\n",
      "    -0.03332539]\n",
      "   [ 0.02923565 -0.00170157 -0.01091725 ...  0.00872084  0.01478975\n",
      "     0.01710992]\n",
      "   [ 0.00827969 -0.00756499  0.01339058 ...  0.01961535 -0.00961402\n",
      "     0.01514838]\n",
      "   ...\n",
      "   [ 0.00607628  0.0011068  -0.01788989 ... -0.0165804  -0.00708509\n",
      "     0.01785469]\n",
      "   [-0.01042639  0.01188143  0.007033   ... -0.00706194 -0.00490387\n",
      "    -0.00523129]\n",
      "   [ 0.00816684  0.0034749   0.00101617 ...  0.0122927   0.00624652\n",
      "    -0.01117847]]\n",
      "\n",
      "  [[-0.01427509 -0.00733254  0.00021133 ...  0.00169657  0.00642907\n",
      "    -0.00139695]\n",
      "   [-0.01733812 -0.03446689  0.00583131 ... -0.00047469  0.002245\n",
      "     0.00871252]\n",
      "   [ 0.02446129 -0.00768537  0.00846224 ...  0.00041484  0.0041176\n",
      "     0.0160145 ]\n",
      "   ...\n",
      "   [ 0.0184339   0.0031943   0.00386364 ... -0.00246572  0.01736321\n",
      "    -0.01589323]\n",
      "   [ 0.02079595 -0.0103161  -0.00292767 ... -0.00947183 -0.00096688\n",
      "    -0.01967942]\n",
      "   [-0.00420307 -0.01329974  0.00320903 ...  0.00114059 -0.01362096\n",
      "    -0.001236  ]]\n",
      "\n",
      "  [[-0.00424407  0.00163034  0.02584586 ... -0.00917584 -0.00667131\n",
      "     0.00810445]\n",
      "   [ 0.00101916 -0.00327092 -0.0100486  ...  0.00947021 -0.01564067\n",
      "    -0.00177132]\n",
      "   [-0.00091399  0.01153107 -0.00779413 ... -0.00040511 -0.0165381\n",
      "    -0.00144171]\n",
      "   ...\n",
      "   [ 0.00437844  0.01619907  0.02688778 ... -0.02048137 -0.00086056\n",
      "    -0.00970437]\n",
      "   [ 0.00026684 -0.01439685 -0.0136652  ... -0.00974845 -0.0023584\n",
      "     0.01039742]\n",
      "   [-0.00145364 -0.00198072 -0.00130647 ...  0.00811371  0.01439357\n",
      "    -0.01498089]]]]\n",
      "\n"
     ]
    }
   ],
   "source": [
    "op = core.CreateOperator(\n",
    "    \"MSRAFill\",                      # The type of operator that we want to run\n",
    "    [],                                  # Inputs\n",
    "    [\"Y\"],                               # Output\n",
    "    shape=[1,3,100,100],\n",
    ")\n",
    "\n",
    "workspace.RunOperatorOnce(op)\n",
    "\n",
    "print(\"Current blobs in the workspace: {}\\n\".format(workspace.Blobs()))\n",
    "output_data1 = workspace.FetchBlob(\"Y\")             #Fetching the data back\n",
    "print \"output_data1 blob shape = \", output_data1.shape\n",
    "print(\"Y:\\n{}\\n\".format(workspace.FetchBlob(\"Y\")))"
   ]
  },
  {
   "cell_type": "code",
   "execution_count": null,
   "metadata": {},
   "outputs": [],
   "source": []
  },
  {
   "cell_type": "markdown",
   "metadata": {},
   "source": [
    "# Effect on training with different initializers (fillers)"
   ]
  },
  {
   "cell_type": "code",
   "execution_count": 1,
   "metadata": {},
   "outputs": [
    {
     "name": "stderr",
     "output_type": "stream",
     "text": [
      "WARNING:root:This caffe2 python run does not have GPU support. Will run in CPU only mode.\n",
      "WARNING:root:Debug message: No module named caffe2_pybind11_state_gpu\n"
     ]
    },
    {
     "name": "stdout",
     "output_type": "stream",
     "text": [
      "Necessities imported!\n"
     ]
    }
   ],
   "source": [
    "from matplotlib import pyplot\n",
    "import numpy as np\n",
    "import os\n",
    "import shutil\n",
    "import caffe2.python.predictor.predictor_exporter as pe\n",
    "from caffe2.python import (\n",
    "    brew,\n",
    "    core,\n",
    "    model_helper,\n",
    "    net_drawer,\n",
    "    optimizer,\n",
    "    visualize,\n",
    "    workspace,\n",
    ")\n",
    "from IPython.display import Markdown\n",
    "from ipy_table import *\n",
    "# If you would like to see some really detailed initializations,\n",
    "# you can change --caffe2_log_level=0 to --caffe2_log_level=-1\n",
    "core.GlobalInit(['caffe2', '--caffe2_log_level=0'])\n",
    "\n",
    "def printmd(string):\n",
    "    display(Markdown(string))\n",
    "print(\"Necessities imported!\")"
   ]
  },
  {
   "cell_type": "code",
   "execution_count": 2,
   "metadata": {},
   "outputs": [
    {
     "data": {
      "text/markdown": [
       "**lmdb train db found!**"
      ],
      "text/plain": [
       "<IPython.core.display.Markdown object>"
      ]
     },
     "metadata": {},
     "output_type": "display_data"
    },
    {
     "data": {
      "text/markdown": [
       "**lmdb test db found!**"
      ],
      "text/plain": [
       "<IPython.core.display.Markdown object>"
      ]
     },
     "metadata": {},
     "output_type": "display_data"
    },
    {
     "data": {
      "text/markdown": [
       "Looks like you ran this before, so we need to cleanup those old files..."
      ],
      "text/plain": [
       "<IPython.core.display.Markdown object>"
      ]
     },
     "metadata": {},
     "output_type": "display_data"
    },
    {
     "data": {
      "text/markdown": [
       "**data folder:**/home/abhi/caffe2_notebooks/tutorial_data/mnist"
      ],
      "text/plain": [
       "<IPython.core.display.Markdown object>"
      ]
     },
     "metadata": {},
     "output_type": "display_data"
    },
    {
     "data": {
      "text/markdown": [
       "**workspace root folder:**/home/abhi/caffe2_notebooks/tutorial_files/tutorial_mnist"
      ],
      "text/plain": [
       "<IPython.core.display.Markdown object>"
      ]
     },
     "metadata": {},
     "output_type": "display_data"
    }
   ],
   "source": [
    "# Download Data\n",
    "\n",
    "# Adopted from: https://caffe2.ai/docs/tutorial-MNIST.html\n",
    "\n",
    "def DownloadResource(url, path):\n",
    "    '''Downloads resources from s3 by url and unzips them to the provided path'''\n",
    "    import requests, zipfile, StringIO\n",
    "    print(\"Downloading... {} to {}\".format(url, path))\n",
    "    r = requests.get(url, stream=True)\n",
    "    z = zipfile.ZipFile(StringIO.StringIO(r.content))\n",
    "    z.extractall(path)\n",
    "    print(\"Completed download and extraction.\")\n",
    "    \n",
    "current_folder = os.path.join(os.path.expanduser('~'), 'caffe2_notebooks')\n",
    "data_folder = os.path.join(current_folder, 'tutorial_data', 'mnist')\n",
    "root_folder = os.path.join(current_folder, 'tutorial_files', 'tutorial_mnist')\n",
    "db_missing = False\n",
    "\n",
    "if not os.path.exists(data_folder):\n",
    "    os.makedirs(data_folder)   \n",
    "    print(\"Your data folder was not found!! This was generated: {}\".format(data_folder))\n",
    "\n",
    "# Look for existing database: lmdb\n",
    "if os.path.exists(os.path.join(data_folder,\"mnist-train-nchw-lmdb\")):\n",
    "    printmd(\"**lmdb train db found!**\")\n",
    "else:\n",
    "    db_missing = True\n",
    "\n",
    "if os.path.exists(os.path.join(data_folder,\"mnist-test-nchw-lmdb\")):\n",
    "    printmd(\"**lmdb test db found!**\")\n",
    "else:\n",
    "    db_missing = True\n",
    "\n",
    "# attempt the download of the db if either was missing\n",
    "if db_missing:\n",
    "    print(\"one or both of the MNIST lmbd dbs not found!!\")\n",
    "    db_url = \"http://download.caffe2.ai/databases/mnist-lmdb.zip\"\n",
    "    try:\n",
    "        DownloadResource(db_url, data_folder)\n",
    "    except Exception as ex:\n",
    "        print(\"Failed to download dataset. Please download it manually from {}\".format(db_url))\n",
    "        print(\"Unzip it and place the two database folders here: {}\".format(data_folder))\n",
    "        raise ex\n",
    "\n",
    "if os.path.exists(root_folder):\n",
    "    printmd(\"Looks like you ran this before, so we need to cleanup those old files...\")\n",
    "    shutil.rmtree(root_folder)\n",
    "\n",
    "os.makedirs(root_folder)\n",
    "workspace.ResetWorkspace(root_folder)\n",
    "\n",
    "printmd(\"**data folder:**\" + data_folder)\n",
    "printmd(\"**workspace root folder:**\" + root_folder)"
   ]
  },
  {
   "cell_type": "code",
   "execution_count": 43,
   "metadata": {},
   "outputs": [],
   "source": [
    "# Constant hyperparameters\n",
    "\n",
    "arg_scope = {\"order\": \"NCHW\"}\n",
    "\n",
    "def AddInput(model, batch_size, db, db_type):\n",
    "    # load the data\n",
    "    data_uint8, label = brew.db_input(\n",
    "        model,\n",
    "        blobs_out=[\"data_uint8\", \"label\"],\n",
    "        batch_size=batch_size,\n",
    "        db=db,\n",
    "        db_type=db_type,\n",
    "    )\n",
    "    # cast the data to float\n",
    "    data = model.Cast(data_uint8, \"data\", to=core.DataType.FLOAT)\n",
    "    # scale data from [0,255] down to [0,1]\n",
    "    data = model.Scale(data, data, scale=float(1./256))\n",
    "    # don't need the gradient for the backward pass\n",
    "    data = model.StopGradient(data, data)\n",
    "    return data, label\n",
    "\n",
    "def AddAccuracy(model, softmax, label):\n",
    "    \"\"\"Adds an accuracy op to the model\"\"\"\n",
    "    accuracy = model.Accuracy([softmax, label], \"accuracy\")\n",
    "    return accuracy\n",
    "\n",
    "def AddModel(model, data):\n",
    "    return AddLeNetModel(model, data)\n",
    "\n",
    "base_lr = 0.001\n",
    "m_high = 0.9\n",
    "def AddTrainingOperators(model, softmax, label):\n",
    "    xent = model.LabelCrossEntropy([softmax, label], 'xent')\n",
    "    loss = model.AveragedLoss(xent, \"loss\")\n",
    "    AddAccuracy(model, softmax, label)\n",
    "    model.AddGradientOperators([loss])\n",
    "    optimizer.build_sgd(\n",
    "        model,\n",
    "        nesterov=1,\n",
    "        momentum=m_high,\n",
    "        base_learning_rate=base_lr,\n",
    "        policy=\"step\",\n",
    "        stepsize=1,\n",
    "        gamma=0.999,\n",
    "    )"
   ]
  },
  {
   "cell_type": "markdown",
   "metadata": {},
   "source": [
    "## 1. Constant initialization - Very High value"
   ]
  },
  {
   "cell_type": "code",
   "execution_count": 35,
   "metadata": {},
   "outputs": [
    {
     "data": {
      "text/markdown": [
       "**Training status: Running**  Wait till the process is completed"
      ],
      "text/plain": [
       "<IPython.core.display.Markdown object>"
      ]
     },
     "metadata": {},
     "output_type": "display_data"
    },
    {
     "name": "stdout",
     "output_type": "stream",
     "text": [
      "    Completed iterations: 0 , Total iterations to be completed: 2000 , Current Loss =  43.17347\n",
      "    Completed iterations: 100 , Total iterations to be completed: 2000 , Current Loss =  43.17347\n",
      "    Completed iterations: 200 , Total iterations to be completed: 2000 , Current Loss =  37.417007\n",
      "    Completed iterations: 300 , Total iterations to be completed: 2000 , Current Loss =  41.734352\n",
      "    Completed iterations: 400 , Total iterations to be completed: 2000 , Current Loss =  41.014793\n",
      "    Completed iterations: 500 , Total iterations to be completed: 2000 , Current Loss =  41.734352\n",
      "    Completed iterations: 600 , Total iterations to be completed: 2000 , Current Loss =  39.57568\n",
      "    Completed iterations: 700 , Total iterations to be completed: 2000 , Current Loss =  43.17347\n",
      "    Completed iterations: 800 , Total iterations to be completed: 2000 , Current Loss =  41.014797\n",
      "    Completed iterations: 900 , Total iterations to be completed: 2000 , Current Loss =  35.977894\n",
      "    Completed iterations: 1000 , Total iterations to be completed: 2000 , Current Loss =  42.45391\n",
      "    Completed iterations: 1100 , Total iterations to be completed: 2000 , Current Loss =  41.734352\n",
      "    Completed iterations: 1200 , Total iterations to be completed: 2000 , Current Loss =  41.734352\n",
      "    Completed iterations: 1300 , Total iterations to be completed: 2000 , Current Loss =  43.17347\n",
      "    Completed iterations: 1400 , Total iterations to be completed: 2000 , Current Loss =  38.136566\n",
      "    Completed iterations: 1500 , Total iterations to be completed: 2000 , Current Loss =  41.014793\n",
      "    Completed iterations: 1600 , Total iterations to be completed: 2000 , Current Loss =  42.45391\n",
      "    Completed iterations: 1700 , Total iterations to be completed: 2000 , Current Loss =  42.45391\n",
      "    Completed iterations: 1800 , Total iterations to be completed: 2000 , Current Loss =  42.45391\n",
      "    Completed iterations: 1900 , Total iterations to be completed: 2000 , Current Loss =  39.57568\n"
     ]
    },
    {
     "data": {
      "text/markdown": [
       "**Training status: Completed**"
      ],
      "text/plain": [
       "<IPython.core.display.Markdown object>"
      ]
     },
     "metadata": {},
     "output_type": "display_data"
    },
    {
     "data": {
      "text/markdown": [
       "**Testing status: Running**  Wait till the process is completed"
      ],
      "text/plain": [
       "<IPython.core.display.Markdown object>"
      ]
     },
     "metadata": {},
     "output_type": "display_data"
    },
    {
     "name": "stdout",
     "output_type": "stream",
     "text": [
      "    Completed test set: 0 , Total sets to be tested: 1000\n",
      "    Completed test set: 100 , Total sets to be tested: 1000\n",
      "    Completed test set: 200 , Total sets to be tested: 1000\n",
      "    Completed test set: 300 , Total sets to be tested: 1000\n",
      "    Completed test set: 400 , Total sets to be tested: 1000\n",
      "    Completed test set: 500 , Total sets to be tested: 1000\n",
      "    Completed test set: 600 , Total sets to be tested: 1000\n",
      "    Completed test set: 700 , Total sets to be tested: 1000\n",
      "    Completed test set: 800 , Total sets to be tested: 1000\n",
      "    Completed test set: 900 , Total sets to be tested: 1000\n"
     ]
    },
    {
     "data": {
      "text/markdown": [
       "**Testing status: Completed**"
      ],
      "text/plain": [
       "<IPython.core.display.Markdown object>"
      ]
     },
     "metadata": {},
     "output_type": "display_data"
    },
    {
     "data": {
      "text/plain": [
       "<matplotlib.legend.Legend at 0x7ee1cd17f3d0>"
      ]
     },
     "execution_count": 35,
     "metadata": {},
     "output_type": "execute_result"
    },
    {
     "data": {
      "image/png": "[encoded data removed]",
      "text/plain": [
       "<matplotlib.figure.Figure at 0x7fe1d42c8450>"
      ]
     },
     "metadata": {},
     "output_type": "display_data"
    }
   ],
   "source": [
    "##################################################################################################\n",
    "def AddLeNetModel(model, data):\n",
    "    # Image size: 28 x 28 -> 24 x 24\n",
    "    conv1 = brew.conv(model, data, 'conv1', dim_in=1, dim_out=20, kernel=5, \\\n",
    "                weight_init=('ConstantFill', dict(value=1000.0)),\n",
    "                bias_init=('ConstantFill', dict(value=1000.0)))\n",
    "    # Image size: 24 x 24 -> 12 x 12\n",
    "    pool1 = model.net.MaxPool(conv1, 'pool1', kernel=2, stride=2)\n",
    "    # Image size: 12 x 12 -> 8 x 8\n",
    "    conv2 = brew.conv(model, pool1, 'conv2', dim_in=20, dim_out=50, kernel=5, \\\n",
    "                weight_init=('ConstantFill', dict(value=1000.0)),\n",
    "                bias_init=('ConstantFill', dict(value=1000.0)))\n",
    "    # Image size: 8 x 8 -> 4 x 4\n",
    "    pool2 = model.net.MaxPool(conv2, 'pool2', kernel=2, stride=2)\n",
    "    # 50 * 4 * 4 stands for dim_out from previous layer multiplied by the image size\n",
    "    fc3 = brew.fc(model, pool2, 'fc3', dim_in=50 * 4 * 4, dim_out=500, \\\n",
    "                weight_init=('ConstantFill', dict(value=1000.0)),\n",
    "                bias_init=('ConstantFill', dict(value=1000.0)))\n",
    "    fc3 = model.net.Relu(fc3, 'relu3')\n",
    "    pred = brew.fc(model, fc3, 'pred', 500, 10)\n",
    "    softmax = model.net.Softmax(pred, 'softmax')\n",
    "    return softmax\n",
    "###################################################################################################\n",
    "\n",
    "\n",
    "#TRAINING and TESTING\n",
    "train_model = model_helper.ModelHelper(name=\"mnist_train\", arg_scope=arg_scope)\n",
    "data, label = AddInput(\n",
    "    train_model, batch_size=64,\n",
    "    db=os.path.join(data_folder, 'mnist-train-nchw-lmdb'),\n",
    "    db_type='lmdb')\n",
    "\n",
    "softmax = AddModel(train_model, data)\n",
    "AddTrainingOperators(train_model, softmax, label)\n",
    "\n",
    "workspace.ResetWorkspace()\n",
    "workspace.RunNetOnce(train_model.param_init_net)\n",
    "workspace.CreateNet(train_model.net, overwrite=True)\n",
    "total_iters_c_h = 2000\n",
    "accuracy_c_h = np.zeros(total_iters_c_h)\n",
    "loss_c_h = np.zeros(total_iters_c_h)\n",
    "printmd('**Training status: Running**  Wait till the process is completed')\n",
    "for i in range(total_iters_c_h):\n",
    "    workspace.RunNet(train_model.net)\n",
    "    if(i%100 == 0):\n",
    "        print \"    Completed iterations:\", i, \", Total iterations to be completed:\", total_iters_c_h, \\\n",
    "        \", Current Loss = \", workspace.blobs['loss']\n",
    "    accuracy_c_h[i] = workspace.blobs['accuracy']\n",
    "    loss_c_h[i] = workspace.blobs['loss']\n",
    "#print \"Training completed\"\n",
    "printmd('**Training status: Completed**')\n",
    "\n",
    "#print \"Testing status: Running\"\n",
    "printmd('**Testing status: Running**  Wait till the process is completed')\n",
    "test_model = model_helper.ModelHelper(\n",
    "    name=\"mnist_test\", arg_scope=arg_scope, init_params=False)\n",
    "data, label = AddInput(\n",
    "    test_model, batch_size=100,\n",
    "    db=os.path.join(data_folder, 'mnist-test-nchw-lmdb'),\n",
    "    db_type='lmdb')\n",
    "softmax = AddModel(test_model, data)\n",
    "AddAccuracy(test_model, softmax, label)\n",
    "workspace.RunNetOnce(test_model.param_init_net)\n",
    "workspace.CreateNet(test_model.net, overwrite=True)\n",
    "test_iters_c_h = 1000\n",
    "test_accuracy_c_h = np.zeros(test_iters_c_h)\n",
    "for i in range(test_iters_c_h):\n",
    "    if(i%100 == 0):\n",
    "        print \"    Completed test set:\", i, \", Total sets to be tested:\", test_iters_c_h\n",
    "    workspace.RunNet(test_model.net.Proto().name)\n",
    "    test_accuracy_c_h[i] = workspace.FetchBlob('accuracy')\n",
    "#print \"Testing completed\"\n",
    "printmd('**Testing status: Completed**')\n",
    "# After the execution is done, let's plot the values.\n",
    "pyplot.plot(loss_c_h, 'b')\n",
    "pyplot.plot(accuracy_c_h, 'r')\n",
    "pyplot.legend(('Loss', 'Accuracy'), loc='upper right')\n"
   ]
  },
  {
   "cell_type": "code",
   "execution_count": 37,
   "metadata": {},
   "outputs": [
    {
     "data": {
      "text/markdown": [
       "**Effects of Initializers**"
      ],
      "text/plain": [
       "<IPython.core.display.Markdown object>"
      ]
     },
     "metadata": {},
     "output_type": "display_data"
    },
    {
     "data": {
      "text/html": [
       "<table border=\"1\" cellpadding=\"3\" cellspacing=\"0\"  style=\"border:black; border-collapse:collapse;\"><tr><td  style=\"background-color:LightGray;border-left: 1px solid;border-right: 1px solid;border-top: 1px solid;border-bottom: 1px solid;\"><b>Initializer&nbsp;Type</b></td><td  style=\"background-color:LightGray;border-left: 1px solid;border-right: 1px solid;border-top: 1px solid;border-bottom: 1px solid;\"><b>Num&nbsp;iterations</b></td><td  style=\"background-color:LightGray;border-left: 1px solid;border-right: 1px solid;border-top: 1px solid;border-bottom: 1px solid;\"><b>Init&nbsp;LR</b></td><td  style=\"background-color:LightGray;border-left: 1px solid;border-right: 1px solid;border-top: 1px solid;border-bottom: 1px solid;\"><b>Init&nbsp;Loss</b></td><td  style=\"background-color:LightGray;border-left: 1px solid;border-right: 1px solid;border-top: 1px solid;border-bottom: 1px solid;\"><b>Final&nbsp;Loss</b></td><td  style=\"background-color:LightGray;border-left: 1px solid;border-right: 1px solid;border-top: 1px solid;border-bottom: 1px solid;\"><b>Init&nbsp;Training-Acc(%)</b></td><td  style=\"background-color:LightGray;border-left: 1px solid;border-right: 1px solid;border-top: 1px solid;border-bottom: 1px solid;\"><b>Final&nbsp;Training-Acc(%)</b></td><td  style=\"background-color:LightGray;border-left: 1px solid;border-right: 1px solid;border-top: 1px solid;border-bottom: 1px solid;\"><b>Final&nbsp;Testing-Acc(%)</b></td></tr><tr><td  style=\"background-color:Ivory;border-left: 1px solid;border-right: 1px solid;border-top: 1px solid;border-bottom: 1px solid;\">Constant&nbsp;-&nbsp;high</td><td  style=\"background-color:Ivory;border-left: 1px solid;border-right: 1px solid;border-top: 1px solid;border-bottom: 1px solid;\">2000</td><td  style=\"background-color:Ivory;border-left: 1px solid;border-right: 1px solid;border-top: 1px solid;border-bottom: 1px solid;\">0.0010</td><td  style=\"background-color:Ivory;border-left: 1px solid;border-right: 1px solid;border-top: 1px solid;border-bottom: 1px solid;\">43.1735</td><td  style=\"background-color:Ivory;border-left: 1px solid;border-right: 1px solid;border-top: 1px solid;border-bottom: 1px solid;\">41.7344</td><td  style=\"background-color:Ivory;border-left: 1px solid;border-right: 1px solid;border-top: 1px solid;border-bottom: 1px solid;\">6.2500</td><td  style=\"background-color:Ivory;border-left: 1px solid;border-right: 1px solid;border-top: 1px solid;border-bottom: 1px solid;\">9.3750</td><td  style=\"background-color:Ivory;border-left: 1px solid;border-right: 1px solid;border-top: 1px solid;border-bottom: 1px solid;\">10.3200</td></tr></table>"
      ],
      "text/plain": [
       "<ipy_table.ipy_table.IpyTable at 0x7fe1cd247910>"
      ]
     },
     "execution_count": 37,
     "metadata": {},
     "output_type": "execute_result"
    }
   ],
   "source": [
    "printmd('**Effects of Initializers**')\n",
    "\n",
    "initializers = [\n",
    "    ['Initializer Type', 'Num iterations', 'Init LR', 'Init Loss', 'Final Loss', 'Init Training-Acc(%)', \\\n",
    "     'Final Training-Acc(%)', 'Final Testing-Acc(%)'],\n",
    "    ['Constant - high', total_iters_c_h, base_lr, loss_c_h[0], loss_c_h[total_iters_c_h-1], accuracy_c_h[0]*100, \\\n",
    "     accuracy_c_h[total_iters_c_h-1]*100, np.mean(test_accuracy_c_h)*100],\n",
    "\n",
    "];\n",
    "make_table(initializers)\n",
    "apply_theme('basic')"
   ]
  },
  {
   "cell_type": "markdown",
   "metadata": {},
   "source": []
  },
  {
   "cell_type": "markdown",
   "metadata": {},
   "source": [
    "## 2. Constant initialization - Zero"
   ]
  },
  {
   "cell_type": "code",
   "execution_count": 44,
   "metadata": {},
   "outputs": [
    {
     "data": {
      "text/markdown": [
       "**Training status: Running**  Wait till the process is completed"
      ],
      "text/plain": [
       "<IPython.core.display.Markdown object>"
      ]
     },
     "metadata": {},
     "output_type": "display_data"
    },
    {
     "name": "stdout",
     "output_type": "stream",
     "text": [
      "    Completed iterations: 0 , Total iterations to be completed: 2000 , Current Loss =  2.3025854\n",
      "    Completed iterations: 100 , Total iterations to be completed: 2000 , Current Loss =  2.302477\n",
      "    Completed iterations: 200 , Total iterations to be completed: 2000 , Current Loss =  2.3025482\n",
      "    Completed iterations: 300 , Total iterations to be completed: 2000 , Current Loss =  2.3018017\n",
      "    Completed iterations: 400 , Total iterations to be completed: 2000 , Current Loss =  2.3040066\n",
      "    Completed iterations: 500 , Total iterations to be completed: 2000 , Current Loss =  2.3035283\n",
      "    Completed iterations: 600 , Total iterations to be completed: 2000 , Current Loss =  2.2995036\n",
      "    Completed iterations: 700 , Total iterations to be completed: 2000 , Current Loss =  2.3060343\n",
      "    Completed iterations: 800 , Total iterations to be completed: 2000 , Current Loss =  2.3040578\n",
      "    Completed iterations: 900 , Total iterations to be completed: 2000 , Current Loss =  2.29848\n",
      "    Completed iterations: 1000 , Total iterations to be completed: 2000 , Current Loss =  2.3029509\n",
      "    Completed iterations: 1100 , Total iterations to be completed: 2000 , Current Loss =  2.301962\n",
      "    Completed iterations: 1200 , Total iterations to be completed: 2000 , Current Loss =  2.3042207\n",
      "    Completed iterations: 1300 , Total iterations to be completed: 2000 , Current Loss =  2.2985897\n",
      "    Completed iterations: 1400 , Total iterations to be completed: 2000 , Current Loss =  2.3015785\n",
      "    Completed iterations: 1500 , Total iterations to be completed: 2000 , Current Loss =  2.303531\n",
      "    Completed iterations: 1600 , Total iterations to be completed: 2000 , Current Loss =  2.296183\n",
      "    Completed iterations: 1700 , Total iterations to be completed: 2000 , Current Loss =  2.3042736\n",
      "    Completed iterations: 1800 , Total iterations to be completed: 2000 , Current Loss =  2.307296\n",
      "    Completed iterations: 1900 , Total iterations to be completed: 2000 , Current Loss =  2.2991672\n"
     ]
    },
    {
     "data": {
      "text/markdown": [
       "**Training status: Completed**"
      ],
      "text/plain": [
       "<IPython.core.display.Markdown object>"
      ]
     },
     "metadata": {},
     "output_type": "display_data"
    },
    {
     "data": {
      "text/markdown": [
       "**Testing status: Running**  Wait till the process is completed"
      ],
      "text/plain": [
       "<IPython.core.display.Markdown object>"
      ]
     },
     "metadata": {},
     "output_type": "display_data"
    },
    {
     "name": "stdout",
     "output_type": "stream",
     "text": [
      "    Completed test set: 0 , Total sets to be tested: 1000\n",
      "    Completed test set: 100 , Total sets to be tested: 1000\n",
      "    Completed test set: 200 , Total sets to be tested: 1000\n",
      "    Completed test set: 300 , Total sets to be tested: 1000\n",
      "    Completed test set: 400 , Total sets to be tested: 1000\n",
      "    Completed test set: 500 , Total sets to be tested: 1000\n",
      "    Completed test set: 600 , Total sets to be tested: 1000\n",
      "    Completed test set: 700 , Total sets to be tested: 1000\n",
      "    Completed test set: 800 , Total sets to be tested: 1000\n",
      "    Completed test set: 900 , Total sets to be tested: 1000\n"
     ]
    },
    {
     "data": {
      "text/markdown": [
       "**Testing status: Completed**"
      ],
      "text/plain": [
       "<IPython.core.display.Markdown object>"
      ]
     },
     "metadata": {},
     "output_type": "display_data"
    },
    {
     "data": {
      "text/plain": [
       "<matplotlib.legend.Legend at 0x7ee1ccf7e9d0>"
      ]
     },
     "execution_count": 44,
     "metadata": {},
     "output_type": "execute_result"
    },
    {
     "data": {
      "image/png": "[encoded data removed]",
      "text/plain": [
       "<matplotlib.figure.Figure at 0x7fe1cd3d4f10>"
      ]
     },
     "metadata": {},
     "output_type": "display_data"
    }
   ],
   "source": [
    "##################################################################################################\n",
    "def AddLeNetModel(model, data):\n",
    "    # Image size: 28 x 28 -> 24 x 24\n",
    "    conv1 = brew.conv(model, data, 'conv1', dim_in=1, dim_out=20, kernel=5, \\\n",
    "                weight_init=('ConstantFill', dict(value=0.)),\n",
    "                bias_init=('ConstantFill', dict(value=0.)))\n",
    "    # Image size: 24 x 24 -> 12 x 12\n",
    "    pool1 = model.net.MaxPool(conv1, 'pool1', kernel=2, stride=2)\n",
    "    # Image size: 12 x 12 -> 8 x 8\n",
    "    conv2 = brew.conv(model, pool1, 'conv2', dim_in=20, dim_out=50, kernel=5, \\\n",
    "                weight_init=('ConstantFill', dict(value=0.)),\n",
    "                bias_init=('ConstantFill', dict(value=0.)))\n",
    "    # Image size: 8 x 8 -> 4 x 4\n",
    "    pool2 = model.net.MaxPool(conv2, 'pool2', kernel=2, stride=2)\n",
    "    # 50 * 4 * 4 stands for dim_out from previous layer multiplied by the image size\n",
    "    fc3 = brew.fc(model, pool2, 'fc3', dim_in=50 * 4 * 4, dim_out=500, \\\n",
    "                weight_init=('ConstantFill', dict(value=0.)),\n",
    "                bias_init=('ConstantFill', dict(value=0.)))\n",
    "    fc3 = model.net.Relu(fc3, 'relu3')\n",
    "    pred = brew.fc(model, fc3, 'pred', 500, 10)\n",
    "    softmax = model.net.Softmax(pred, 'softmax')\n",
    "    return softmax\n",
    "###################################################################################################\n",
    "\n",
    "\n",
    "#TRAINING and TESTING\n",
    "train_model = model_helper.ModelHelper(name=\"mnist_train\", arg_scope=arg_scope)\n",
    "data, label = AddInput(\n",
    "    train_model, batch_size=64,\n",
    "    db=os.path.join(data_folder, 'mnist-train-nchw-lmdb'),\n",
    "    db_type='lmdb')\n",
    "\n",
    "softmax = AddModel(train_model, data)\n",
    "AddTrainingOperators(train_model, softmax, label)\n",
    "\n",
    "workspace.ResetWorkspace()\n",
    "workspace.RunNetOnce(train_model.param_init_net)\n",
    "workspace.CreateNet(train_model.net, overwrite=True)\n",
    "total_iters_c_m = 2000\n",
    "accuracy_c_m = np.zeros(total_iters_c_m)\n",
    "loss_c_m = np.zeros(total_iters_c_m)\n",
    "printmd('**Training status: Running**  Wait till the process is completed')\n",
    "for i in range(total_iters_c_m):\n",
    "    workspace.RunNet(train_model.net)\n",
    "    if(i%100 == 0):\n",
    "        print \"    Completed iterations:\", i, \", Total iterations to be completed:\", total_iters_c_m, \\\n",
    "        \", Current Loss = \", workspace.blobs['loss']\n",
    "    accuracy_c_m[i] = workspace.blobs['accuracy']\n",
    "    loss_c_m[i] = workspace.blobs['loss']\n",
    "#print \"Training completed\"\n",
    "printmd('**Training status: Completed**')\n",
    "\n",
    "#print \"Testing status: Running\"\n",
    "printmd('**Testing status: Running**  Wait till the process is completed')\n",
    "test_model = model_helper.ModelHelper(\n",
    "    name=\"mnist_test\", arg_scope=arg_scope, init_params=False)\n",
    "data, label = AddInput(\n",
    "    test_model, batch_size=100,\n",
    "    db=os.path.join(data_folder, 'mnist-test-nchw-lmdb'),\n",
    "    db_type='lmdb')\n",
    "softmax = AddModel(test_model, data)\n",
    "AddAccuracy(test_model, softmax, label)\n",
    "workspace.RunNetOnce(test_model.param_init_net)\n",
    "workspace.CreateNet(test_model.net, overwrite=True)\n",
    "test_iters_c_m = 1000\n",
    "test_accuracy_c_m = np.zeros(test_iters_c_m)\n",
    "for i in range(test_iters_c_m):\n",
    "    if(i%100 == 0):\n",
    "        print \"    Completed test set:\", i, \", Total sets to be tested:\", test_iters_c_m\n",
    "    workspace.RunNet(test_model.net.Proto().name)\n",
    "    test_accuracy_c_m[i] = workspace.FetchBlob('accuracy')\n",
    "#print \"Testing completed\"\n",
    "printmd('**Testing status: Completed**')\n",
    "# After the execution is done, let's plot the values.\n",
    "pyplot.plot(loss_c_m, 'b')\n",
    "pyplot.plot(accuracy_c_m, 'r')\n",
    "pyplot.legend(('Loss', 'Accuracy'), loc='upper right')"
   ]
  },
  {
   "cell_type": "code",
   "execution_count": 45,
   "metadata": {},
   "outputs": [
    {
     "data": {
      "text/markdown": [
       "**Effects of Initializers**"
      ],
      "text/plain": [
       "<IPython.core.display.Markdown object>"
      ]
     },
     "metadata": {},
     "output_type": "display_data"
    },
    {
     "data": {
      "text/html": [
       "<table border=\"1\" cellpadding=\"3\" cellspacing=\"0\"  style=\"border:black; border-collapse:collapse;\"><tr><td  style=\"background-color:LightGray;border-left: 1px solid;border-right: 1px solid;border-top: 1px solid;border-bottom: 1px solid;\"><b>Initializer&nbsp;Type</b></td><td  style=\"background-color:LightGray;border-left: 1px solid;border-right: 1px solid;border-top: 1px solid;border-bottom: 1px solid;\"><b>Num&nbsp;iterations</b></td><td  style=\"background-color:LightGray;border-left: 1px solid;border-right: 1px solid;border-top: 1px solid;border-bottom: 1px solid;\"><b>Init&nbsp;LR</b></td><td  style=\"background-color:LightGray;border-left: 1px solid;border-right: 1px solid;border-top: 1px solid;border-bottom: 1px solid;\"><b>Init&nbsp;Loss</b></td><td  style=\"background-color:LightGray;border-left: 1px solid;border-right: 1px solid;border-top: 1px solid;border-bottom: 1px solid;\"><b>Final&nbsp;Loss</b></td><td  style=\"background-color:LightGray;border-left: 1px solid;border-right: 1px solid;border-top: 1px solid;border-bottom: 1px solid;\"><b>Init&nbsp;Training-Acc(%)</b></td><td  style=\"background-color:LightGray;border-left: 1px solid;border-right: 1px solid;border-top: 1px solid;border-bottom: 1px solid;\"><b>Final&nbsp;Training-Acc(%)</b></td><td  style=\"background-color:LightGray;border-left: 1px solid;border-right: 1px solid;border-top: 1px solid;border-bottom: 1px solid;\"><b>Final&nbsp;Testing-Acc(%)</b></td></tr><tr><td  style=\"background-color:Ivory;border-left: 1px solid;border-right: 1px solid;border-top: 1px solid;border-bottom: 1px solid;\">Constant&nbsp;-&nbsp;high</td><td  style=\"background-color:Ivory;border-left: 1px solid;border-right: 1px solid;border-top: 1px solid;border-bottom: 1px solid;\">2000</td><td  style=\"background-color:Ivory;border-left: 1px solid;border-right: 1px solid;border-top: 1px solid;border-bottom: 1px solid;\">0.0010</td><td  style=\"background-color:Ivory;border-left: 1px solid;border-right: 1px solid;border-top: 1px solid;border-bottom: 1px solid;\">43.1735</td><td  style=\"background-color:Ivory;border-left: 1px solid;border-right: 1px solid;border-top: 1px solid;border-bottom: 1px solid;\">41.7344</td><td  style=\"background-color:Ivory;border-left: 1px solid;border-right: 1px solid;border-top: 1px solid;border-bottom: 1px solid;\">6.2500</td><td  style=\"background-color:Ivory;border-left: 1px solid;border-right: 1px solid;border-top: 1px solid;border-bottom: 1px solid;\">9.3750</td><td  style=\"background-color:Ivory;border-left: 1px solid;border-right: 1px solid;border-top: 1px solid;border-bottom: 1px solid;\">10.3200</td></tr><tr><td  style=\"background-color:AliceBlue;border-left: 1px solid;border-right: 1px solid;border-top: 1px solid;border-bottom: 1px solid;\">Constant&nbsp;-&nbsp;zero</td><td  style=\"background-color:AliceBlue;border-left: 1px solid;border-right: 1px solid;border-top: 1px solid;border-bottom: 1px solid;\">2000</td><td  style=\"background-color:AliceBlue;border-left: 1px solid;border-right: 1px solid;border-top: 1px solid;border-bottom: 1px solid;\">0.0010</td><td  style=\"background-color:AliceBlue;border-left: 1px solid;border-right: 1px solid;border-top: 1px solid;border-bottom: 1px solid;\">2.3026</td><td  style=\"background-color:AliceBlue;border-left: 1px solid;border-right: 1px solid;border-top: 1px solid;border-bottom: 1px solid;\">2.3023</td><td  style=\"background-color:AliceBlue;border-left: 1px solid;border-right: 1px solid;border-top: 1px solid;border-bottom: 1px solid;\">10.9375</td><td  style=\"background-color:AliceBlue;border-left: 1px solid;border-right: 1px solid;border-top: 1px solid;border-bottom: 1px solid;\">10.9375</td><td  style=\"background-color:AliceBlue;border-left: 1px solid;border-right: 1px solid;border-top: 1px solid;border-bottom: 1px solid;\">11.3500</td></tr></table>"
      ],
      "text/plain": [
       "<ipy_table.ipy_table.IpyTable at 0x7fe1cd29aa10>"
      ]
     },
     "execution_count": 45,
     "metadata": {},
     "output_type": "execute_result"
    }
   ],
   "source": [
    "printmd('**Effects of Initializers**')\n",
    "\n",
    "initializers = [\n",
    "    ['Initializer Type', 'Num iterations', 'Init LR', 'Init Loss', 'Final Loss', 'Init Training-Acc(%)', \\\n",
    "     'Final Training-Acc(%)', 'Final Testing-Acc(%)'],\n",
    "    ['Constant - high', total_iters_c_h, base_lr, loss_c_h[0], loss_c_h[total_iters_c_h-1], accuracy_c_h[0]*100, \\\n",
    "     accuracy_c_h[total_iters_c_h-1]*100, np.mean(test_accuracy_c_h)*100],\n",
    "    ['Constant - zero', total_iters_c_m, base_lr, loss_c_m[0], loss_c_m[total_iters_c_m-1], accuracy_c_m[0]*100, \\\n",
    "     accuracy_c_m[total_iters_c_m-1]*100, np.mean(test_accuracy_c_m)*100],\n",
    "\n",
    "];\n",
    "make_table(initializers)\n",
    "apply_theme('basic')"
   ]
  },
  {
   "cell_type": "code",
   "execution_count": null,
   "metadata": {},
   "outputs": [],
   "source": []
  },
  {
   "cell_type": "markdown",
   "metadata": {},
   "source": [
    "## 3. Xavier initialization"
   ]
  },
  {
   "cell_type": "code",
   "execution_count": 47,
   "metadata": {},
   "outputs": [
    {
     "data": {
      "text/markdown": [
       "**Training status: Running**  Wait till the process is completed"
      ],
      "text/plain": [
       "<IPython.core.display.Markdown object>"
      ]
     },
     "metadata": {},
     "output_type": "display_data"
    },
    {
     "name": "stdout",
     "output_type": "stream",
     "text": [
      "    Completed iterations: 0 , Total iterations to be completed: 2000 , Current Loss =  3.203992\n",
      "    Completed iterations: 100 , Total iterations to be completed: 2000 , Current Loss =  0.71429974\n",
      "    Completed iterations: 200 , Total iterations to be completed: 2000 , Current Loss =  0.4001926\n",
      "    Completed iterations: 300 , Total iterations to be completed: 2000 , Current Loss =  0.32719496\n",
      "    Completed iterations: 400 , Total iterations to be completed: 2000 , Current Loss =  0.2724344\n",
      "    Completed iterations: 500 , Total iterations to be completed: 2000 , Current Loss =  0.36996093\n",
      "    Completed iterations: 600 , Total iterations to be completed: 2000 , Current Loss =  0.18547262\n",
      "    Completed iterations: 700 , Total iterations to be completed: 2000 , Current Loss =  0.38056624\n",
      "    Completed iterations: 800 , Total iterations to be completed: 2000 , Current Loss =  0.3353026\n",
      "    Completed iterations: 900 , Total iterations to be completed: 2000 , Current Loss =  0.3089176\n",
      "    Completed iterations: 1000 , Total iterations to be completed: 2000 , Current Loss =  0.25842714\n",
      "    Completed iterations: 1100 , Total iterations to be completed: 2000 , Current Loss =  0.11632501\n",
      "    Completed iterations: 1200 , Total iterations to be completed: 2000 , Current Loss =  0.20493755\n",
      "    Completed iterations: 1300 , Total iterations to be completed: 2000 , Current Loss =  0.14789242\n",
      "    Completed iterations: 1400 , Total iterations to be completed: 2000 , Current Loss =  0.15220013\n",
      "    Completed iterations: 1500 , Total iterations to be completed: 2000 , Current Loss =  0.28468782\n",
      "    Completed iterations: 1600 , Total iterations to be completed: 2000 , Current Loss =  0.29060417\n",
      "    Completed iterations: 1700 , Total iterations to be completed: 2000 , Current Loss =  0.08672796\n",
      "    Completed iterations: 1800 , Total iterations to be completed: 2000 , Current Loss =  0.12618428\n",
      "    Completed iterations: 1900 , Total iterations to be completed: 2000 , Current Loss =  0.21128239\n"
     ]
    },
    {
     "data": {
      "text/markdown": [
       "**Training status: Completed**"
      ],
      "text/plain": [
       "<IPython.core.display.Markdown object>"
      ]
     },
     "metadata": {},
     "output_type": "display_data"
    },
    {
     "data": {
      "text/markdown": [
       "**Testing status: Running**  Wait till the process is completed"
      ],
      "text/plain": [
       "<IPython.core.display.Markdown object>"
      ]
     },
     "metadata": {},
     "output_type": "display_data"
    },
    {
     "name": "stdout",
     "output_type": "stream",
     "text": [
      "    Completed test set: 0 , Total sets to be tested: 1000\n",
      "    Completed test set: 100 , Total sets to be tested: 1000\n",
      "    Completed test set: 200 , Total sets to be tested: 1000\n",
      "    Completed test set: 300 , Total sets to be tested: 1000\n",
      "    Completed test set: 400 , Total sets to be tested: 1000\n",
      "    Completed test set: 500 , Total sets to be tested: 1000\n",
      "    Completed test set: 600 , Total sets to be tested: 1000\n",
      "    Completed test set: 700 , Total sets to be tested: 1000\n",
      "    Completed test set: 800 , Total sets to be tested: 1000\n",
      "    Completed test set: 900 , Total sets to be tested: 1000\n"
     ]
    },
    {
     "data": {
      "text/markdown": [
       "**Testing status: Completed**"
      ],
      "text/plain": [
       "<IPython.core.display.Markdown object>"
      ]
     },
     "metadata": {},
     "output_type": "display_data"
    },
    {
     "data": {
      "text/plain": [
       "<matplotlib.legend.Legend at 0x7ee1ccf02510>"
      ]
     },
     "execution_count": 47,
     "metadata": {},
     "output_type": "execute_result"
    },
    {
     "data": {
      "image/png": "[encoded data removed]",
      "text/plain": [
       "<matplotlib.figure.Figure at 0x7fe1cd360f90>"
      ]
     },
     "metadata": {},
     "output_type": "display_data"
    }
   ],
   "source": [
    "##################################################################################################\n",
    "def AddLeNetModel(model, data):\n",
    "    # Image size: 28 x 28 -> 24 x 24\n",
    "    conv1 = brew.conv(model, data, 'conv1', dim_in=1, dim_out=20, kernel=5, \\\n",
    "                weight_init=('XavierFill', {}),\n",
    "                bias_init=('XavierFill', {}))\n",
    "    # Image size: 24 x 24 -> 12 x 12\n",
    "    pool1 = model.net.MaxPool(conv1, 'pool1', kernel=2, stride=2)\n",
    "    # Image size: 12 x 12 -> 8 x 8\n",
    "    conv2 = brew.conv(model, pool1, 'conv2', dim_in=20, dim_out=50, kernel=5, \\\n",
    "                weight_init=('XavierFill', {}),\n",
    "                bias_init=('XavierFill', {}))\n",
    "    # Image size: 8 x 8 -> 4 x 4\n",
    "    pool2 = model.net.MaxPool(conv2, 'pool2', kernel=2, stride=2)\n",
    "    # 50 * 4 * 4 stands for dim_out from previous layer multiplied by the image size\n",
    "    fc3 = brew.fc(model, pool2, 'fc3', dim_in=50 * 4 * 4, dim_out=500, \\\n",
    "                weight_init=('XavierFill', {}),\n",
    "                bias_init=('XavierFill', {}))\n",
    "    fc3 = model.net.Relu(fc3, 'relu3')\n",
    "    pred = brew.fc(model, fc3, 'pred', 500, 10)\n",
    "    softmax = model.net.Softmax(pred, 'softmax')\n",
    "    return softmax\n",
    "###################################################################################################\n",
    "\n",
    "\n",
    "#TRAINING and TESTING\n",
    "train_model = model_helper.ModelHelper(name=\"mnist_train\", arg_scope=arg_scope)\n",
    "data, label = AddInput(\n",
    "    train_model, batch_size=64,\n",
    "    db=os.path.join(data_folder, 'mnist-train-nchw-lmdb'),\n",
    "    db_type='lmdb')\n",
    "\n",
    "softmax = AddModel(train_model, data)\n",
    "AddTrainingOperators(train_model, softmax, label)\n",
    "\n",
    "workspace.ResetWorkspace()\n",
    "workspace.RunNetOnce(train_model.param_init_net)\n",
    "workspace.CreateNet(train_model.net, overwrite=True)\n",
    "total_iters_x = 2000\n",
    "accuracy_x = np.zeros(total_iters_x)\n",
    "loss_x = np.zeros(total_iters_x)\n",
    "printmd('**Training status: Running**  Wait till the process is completed')\n",
    "for i in range(total_iters_x):\n",
    "    workspace.RunNet(train_model.net)\n",
    "    if(i%100 == 0):\n",
    "        print \"    Completed iterations:\", i, \", Total iterations to be completed:\", total_iters_x, \\\n",
    "        \", Current Loss = \", workspace.blobs['loss']\n",
    "    accuracy_x[i] = workspace.blobs['accuracy']\n",
    "    loss_x[i] = workspace.blobs['loss']\n",
    "#print \"Training completed\"\n",
    "printmd('**Training status: Completed**')\n",
    "\n",
    "#print \"Testing status: Running\"\n",
    "printmd('**Testing status: Running**  Wait till the process is completed')\n",
    "test_model = model_helper.ModelHelper(\n",
    "    name=\"mnist_test\", arg_scope=arg_scope, init_params=False)\n",
    "data, label = AddInput(\n",
    "    test_model, batch_size=100,\n",
    "    db=os.path.join(data_folder, 'mnist-test-nchw-lmdb'),\n",
    "    db_type='lmdb')\n",
    "softmax = AddModel(test_model, data)\n",
    "AddAccuracy(test_model, softmax, label)\n",
    "workspace.RunNetOnce(test_model.param_init_net)\n",
    "workspace.CreateNet(test_model.net, overwrite=True)\n",
    "test_iters_x = 1000\n",
    "test_accuracy_x = np.zeros(test_iters_x)\n",
    "for i in range(test_iters_x):\n",
    "    if(i%100 == 0):\n",
    "        print \"    Completed test set:\", i, \", Total sets to be tested:\", test_iters_x\n",
    "    workspace.RunNet(test_model.net.Proto().name)\n",
    "    test_accuracy_x[i] = workspace.FetchBlob('accuracy')\n",
    "#print \"Testing completed\"\n",
    "printmd('**Testing status: Completed**')\n",
    "# After the execution is done, let's plot the values.\n",
    "pyplot.plot(loss_x, 'b')\n",
    "pyplot.plot(accuracy_x, 'r')\n",
    "pyplot.legend(('Loss', 'Accuracy'), loc='upper right')"
   ]
  },
  {
   "cell_type": "code",
   "execution_count": 51,
   "metadata": {},
   "outputs": [
    {
     "data": {
      "text/markdown": [
       "**Effects of Initializers**"
      ],
      "text/plain": [
       "<IPython.core.display.Markdown object>"
      ]
     },
     "metadata": {},
     "output_type": "display_data"
    },
    {
     "data": {
      "text/html": [
       "<table border=\"1\" cellpadding=\"3\" cellspacing=\"0\"  style=\"border:black; border-collapse:collapse;\"><tr><td  style=\"background-color:LightGray;border-left: 1px solid;border-right: 1px solid;border-top: 1px solid;border-bottom: 1px solid;\"><b>Initializer&nbsp;Type</b></td><td  style=\"background-color:LightGray;border-left: 1px solid;border-right: 1px solid;border-top: 1px solid;border-bottom: 1px solid;\"><b>Num&nbsp;iterations</b></td><td  style=\"background-color:LightGray;border-left: 1px solid;border-right: 1px solid;border-top: 1px solid;border-bottom: 1px solid;\"><b>Init&nbsp;LR</b></td><td  style=\"background-color:LightGray;border-left: 1px solid;border-right: 1px solid;border-top: 1px solid;border-bottom: 1px solid;\"><b>Init&nbsp;Loss</b></td><td  style=\"background-color:LightGray;border-left: 1px solid;border-right: 1px solid;border-top: 1px solid;border-bottom: 1px solid;\"><b>Final&nbsp;Loss</b></td><td  style=\"background-color:LightGray;border-left: 1px solid;border-right: 1px solid;border-top: 1px solid;border-bottom: 1px solid;\"><b>Init&nbsp;Training-Acc(%)</b></td><td  style=\"background-color:LightGray;border-left: 1px solid;border-right: 1px solid;border-top: 1px solid;border-bottom: 1px solid;\"><b>Final&nbsp;Training-Acc(%)</b></td><td  style=\"background-color:LightGray;border-left: 1px solid;border-right: 1px solid;border-top: 1px solid;border-bottom: 1px solid;\"><b>Final&nbsp;Testing-Acc(%)</b></td></tr><tr><td  style=\"background-color:Ivory;border-left: 1px solid;border-right: 1px solid;border-top: 1px solid;border-bottom: 1px solid;\">Constant&nbsp;-&nbsp;high</td><td  style=\"background-color:Ivory;border-left: 1px solid;border-right: 1px solid;border-top: 1px solid;border-bottom: 1px solid;\">2000</td><td  style=\"background-color:Ivory;border-left: 1px solid;border-right: 1px solid;border-top: 1px solid;border-bottom: 1px solid;\">0.0010</td><td  style=\"background-color:Ivory;border-left: 1px solid;border-right: 1px solid;border-top: 1px solid;border-bottom: 1px solid;\">43.1735</td><td  style=\"background-color:Ivory;border-left: 1px solid;border-right: 1px solid;border-top: 1px solid;border-bottom: 1px solid;\">41.7344</td><td  style=\"background-color:Ivory;border-left: 1px solid;border-right: 1px solid;border-top: 1px solid;border-bottom: 1px solid;\">6.2500</td><td  style=\"background-color:Ivory;border-left: 1px solid;border-right: 1px solid;border-top: 1px solid;border-bottom: 1px solid;\">9.3750</td><td  style=\"background-color:Ivory;border-left: 1px solid;border-right: 1px solid;border-top: 1px solid;border-bottom: 1px solid;\">10.3200</td></tr><tr><td  style=\"background-color:AliceBlue;border-left: 1px solid;border-right: 1px solid;border-top: 1px solid;border-bottom: 1px solid;\">Constant&nbsp;-&nbsp;zero</td><td  style=\"background-color:AliceBlue;border-left: 1px solid;border-right: 1px solid;border-top: 1px solid;border-bottom: 1px solid;\">2000</td><td  style=\"background-color:AliceBlue;border-left: 1px solid;border-right: 1px solid;border-top: 1px solid;border-bottom: 1px solid;\">0.0010</td><td  style=\"background-color:AliceBlue;border-left: 1px solid;border-right: 1px solid;border-top: 1px solid;border-bottom: 1px solid;\">2.3026</td><td  style=\"background-color:AliceBlue;border-left: 1px solid;border-right: 1px solid;border-top: 1px solid;border-bottom: 1px solid;\">2.3023</td><td  style=\"background-color:AliceBlue;border-left: 1px solid;border-right: 1px solid;border-top: 1px solid;border-bottom: 1px solid;\">10.9375</td><td  style=\"background-color:AliceBlue;border-left: 1px solid;border-right: 1px solid;border-top: 1px solid;border-bottom: 1px solid;\">10.9375</td><td  style=\"background-color:AliceBlue;border-left: 1px solid;border-right: 1px solid;border-top: 1px solid;border-bottom: 1px solid;\">11.3500</td></tr><tr><td  style=\"background-color:Ivory;border-left: 1px solid;border-right: 1px solid;border-top: 1px solid;border-bottom: 1px solid;\">Xavier</td><td  style=\"background-color:Ivory;border-left: 1px solid;border-right: 1px solid;border-top: 1px solid;border-bottom: 1px solid;\">2000</td><td  style=\"background-color:Ivory;border-left: 1px solid;border-right: 1px solid;border-top: 1px solid;border-bottom: 1px solid;\">0.0010</td><td  style=\"background-color:Ivory;border-left: 1px solid;border-right: 1px solid;border-top: 1px solid;border-bottom: 1px solid;\">3.2040</td><td  style=\"background-color:Ivory;border-left: 1px solid;border-right: 1px solid;border-top: 1px solid;border-bottom: 1px solid;\">0.1746</td><td  style=\"background-color:Ivory;border-left: 1px solid;border-right: 1px solid;border-top: 1px solid;border-bottom: 1px solid;\">12.5000</td><td  style=\"background-color:Ivory;border-left: 1px solid;border-right: 1px solid;border-top: 1px solid;border-bottom: 1px solid;\">92.1875</td><td  style=\"background-color:Ivory;border-left: 1px solid;border-right: 1px solid;border-top: 1px solid;border-bottom: 1px solid;\">94.2800</td></tr></table>"
      ],
      "text/plain": [
       "<ipy_table.ipy_table.IpyTable at 0x7fe1cd360390>"
      ]
     },
     "execution_count": 51,
     "metadata": {},
     "output_type": "execute_result"
    }
   ],
   "source": [
    "printmd('**Effects of Initializers**')\n",
    "\n",
    "initializers = [\n",
    "    ['Initializer Type', 'Num iterations', 'Init LR', 'Init Loss', 'Final Loss', 'Init Training-Acc(%)', \\\n",
    "     'Final Training-Acc(%)', 'Final Testing-Acc(%)'],\n",
    "    ['Constant - high', total_iters_c_h, base_lr, loss_c_h[0], loss_c_h[total_iters_c_h-1], accuracy_c_h[0]*100, \\\n",
    "     accuracy_c_h[total_iters_c_h-1]*100, np.mean(test_accuracy_c_h)*100],\n",
    "    ['Constant - zero', total_iters_c_m, base_lr, loss_c_m[0], loss_c_m[total_iters_c_m-1], accuracy_c_m[0]*100, \\\n",
    "     accuracy_c_m[total_iters_c_m-1]*100, np.mean(test_accuracy_c_m)*100],\n",
    "    ['Xavier', total_iters_x, base_lr, loss_x[0], loss_x[total_iters_x-1], accuracy_x[0]*100, \\\n",
    "     accuracy_x[total_iters_x-1]*100, np.mean(test_accuracy_x)*100],\n",
    "\n",
    "];\n",
    "make_table(initializers)\n",
    "apply_theme('basic')"
   ]
  },
  {
   "cell_type": "code",
   "execution_count": null,
   "metadata": {},
   "outputs": [],
   "source": []
  },
  {
   "cell_type": "markdown",
   "metadata": {},
   "source": [
    "## 4. MSRA+Gaussian initialization"
   ]
  },
  {
   "cell_type": "code",
   "execution_count": 50,
   "metadata": {},
   "outputs": [
    {
     "data": {
      "text/markdown": [
       "**Training status: Running**  Wait till the process is completed"
      ],
      "text/plain": [
       "<IPython.core.display.Markdown object>"
      ]
     },
     "metadata": {},
     "output_type": "display_data"
    },
    {
     "name": "stdout",
     "output_type": "stream",
     "text": [
      "    Completed iterations: 0 , Total iterations to be completed: 2000 , Current Loss =  3.0503173\n",
      "    Completed iterations: 100 , Total iterations to be completed: 2000 , Current Loss =  1.2514492\n",
      "    Completed iterations: 200 , Total iterations to be completed: 2000 , Current Loss =  0.52981883\n",
      "    Completed iterations: 300 , Total iterations to be completed: 2000 , Current Loss =  0.41093937\n",
      "    Completed iterations: 400 , Total iterations to be completed: 2000 , Current Loss =  0.30870074\n",
      "    Completed iterations: 500 , Total iterations to be completed: 2000 , Current Loss =  0.37612173\n",
      "    Completed iterations: 600 , Total iterations to be completed: 2000 , Current Loss =  0.21828662\n",
      "    Completed iterations: 700 , Total iterations to be completed: 2000 , Current Loss =  0.3924354\n",
      "    Completed iterations: 800 , Total iterations to be completed: 2000 , Current Loss =  0.39088798\n",
      "    Completed iterations: 900 , Total iterations to be completed: 2000 , Current Loss =  0.34615397\n",
      "    Completed iterations: 1000 , Total iterations to be completed: 2000 , Current Loss =  0.22569561\n",
      "    Completed iterations: 1100 , Total iterations to be completed: 2000 , Current Loss =  0.15061213\n",
      "    Completed iterations: 1200 , Total iterations to be completed: 2000 , Current Loss =  0.2098943\n",
      "    Completed iterations: 1300 , Total iterations to be completed: 2000 , Current Loss =  0.17711574\n",
      "    Completed iterations: 1400 , Total iterations to be completed: 2000 , Current Loss =  0.1406072\n",
      "    Completed iterations: 1500 , Total iterations to be completed: 2000 , Current Loss =  0.33077425\n",
      "    Completed iterations: 1600 , Total iterations to be completed: 2000 , Current Loss =  0.35632062\n",
      "    Completed iterations: 1700 , Total iterations to be completed: 2000 , Current Loss =  0.12004657\n",
      "    Completed iterations: 1800 , Total iterations to be completed: 2000 , Current Loss =  0.135901\n",
      "    Completed iterations: 1900 , Total iterations to be completed: 2000 , Current Loss =  0.1872685\n"
     ]
    },
    {
     "data": {
      "text/markdown": [
       "**Training status: Completed**"
      ],
      "text/plain": [
       "<IPython.core.display.Markdown object>"
      ]
     },
     "metadata": {},
     "output_type": "display_data"
    },
    {
     "data": {
      "text/markdown": [
       "**Testing status: Running**  Wait till the process is completed"
      ],
      "text/plain": [
       "<IPython.core.display.Markdown object>"
      ]
     },
     "metadata": {},
     "output_type": "display_data"
    },
    {
     "name": "stdout",
     "output_type": "stream",
     "text": [
      "    Completed test set: 0 , Total sets to be tested: 1000\n",
      "    Completed test set: 100 , Total sets to be tested: 1000\n",
      "    Completed test set: 200 , Total sets to be tested: 1000\n",
      "    Completed test set: 300 , Total sets to be tested: 1000\n",
      "    Completed test set: 400 , Total sets to be tested: 1000\n",
      "    Completed test set: 500 , Total sets to be tested: 1000\n",
      "    Completed test set: 600 , Total sets to be tested: 1000\n",
      "    Completed test set: 700 , Total sets to be tested: 1000\n",
      "    Completed test set: 800 , Total sets to be tested: 1000\n",
      "    Completed test set: 900 , Total sets to be tested: 1000\n"
     ]
    },
    {
     "data": {
      "text/markdown": [
       "**Testing status: Completed**"
      ],
      "text/plain": [
       "<IPython.core.display.Markdown object>"
      ]
     },
     "metadata": {},
     "output_type": "display_data"
    },
    {
     "data": {
      "text/plain": [
       "<matplotlib.legend.Legend at 0x7ee1cc605850>"
      ]
     },
     "execution_count": 50,
     "metadata": {},
     "output_type": "execute_result"
    },
    {
     "data": {
      "image/png": "[encoded data removed]",
      "text/plain": [
       "<matplotlib.figure.Figure at 0x7fe1d4350a50>"
      ]
     },
     "metadata": {},
     "output_type": "display_data"
    }
   ],
   "source": [
    "##################################################################################################\n",
    "def AddLeNetModel(model, data):\n",
    "    # Image size: 28 x 28 -> 24 x 24\n",
    "    conv1 = brew.conv(model, data, 'conv1', dim_in=1, dim_out=20, kernel=5, \\\n",
    "                weight_init=('MSRAFill', {}),\n",
    "                bias_init=('GaussianFill', {}))\n",
    "    # Image size: 24 x 24 -> 12 x 12\n",
    "    pool1 = model.net.MaxPool(conv1, 'pool1', kernel=2, stride=2)\n",
    "    # Image size: 12 x 12 -> 8 x 8\n",
    "    conv2 = brew.conv(model, pool1, 'conv2', dim_in=20, dim_out=50, kernel=5, \\\n",
    "                weight_init=('MSRAFill', {}),\n",
    "                bias_init=('GaussianFill', {}))\n",
    "    # Image size: 8 x 8 -> 4 x 4\n",
    "    pool2 = model.net.MaxPool(conv2, 'pool2', kernel=2, stride=2)\n",
    "    # 50 * 4 * 4 stands for dim_out from previous layer multiplied by the image size\n",
    "    fc3 = brew.fc(model, pool2, 'fc3', dim_in=50 * 4 * 4, dim_out=500, \\\n",
    "                weight_init=('MSRAFill', {}),\n",
    "                bias_init=('GaussianFill', {}))\n",
    "    fc3 = model.net.Relu(fc3, 'relu3')\n",
    "    pred = brew.fc(model, fc3, 'pred', 500, 10)\n",
    "    softmax = model.net.Softmax(pred, 'softmax')\n",
    "    return softmax\n",
    "###################################################################################################\n",
    "\n",
    "\n",
    "#TRAINING and TESTING\n",
    "train_model = model_helper.ModelHelper(name=\"mnist_train\", arg_scope=arg_scope)\n",
    "data, label = AddInput(\n",
    "    train_model, batch_size=64,\n",
    "    db=os.path.join(data_folder, 'mnist-train-nchw-lmdb'),\n",
    "    db_type='lmdb')\n",
    "\n",
    "softmax = AddModel(train_model, data)\n",
    "AddTrainingOperators(train_model, softmax, label)\n",
    "\n",
    "workspace.ResetWorkspace()\n",
    "workspace.RunNetOnce(train_model.param_init_net)\n",
    "workspace.CreateNet(train_model.net, overwrite=True)\n",
    "total_iters_m = 2000\n",
    "accuracy_m = np.zeros(total_iters_m)\n",
    "loss_m = np.zeros(total_iters_m)\n",
    "printmd('**Training status: Running**  Wait till the process is completed')\n",
    "for i in range(total_iters_m):\n",
    "    workspace.RunNet(train_model.net)\n",
    "    if(i%100 == 0):\n",
    "        print \"    Completed iterations:\", i, \", Total iterations to be completed:\", total_iters_m, \\\n",
    "        \", Current Loss = \", workspace.blobs['loss']\n",
    "    accuracy_m[i] = workspace.blobs['accuracy']\n",
    "    loss_m[i] = workspace.blobs['loss']\n",
    "#print \"Training completed\"\n",
    "printmd('**Training status: Completed**')\n",
    "\n",
    "#print \"Testing status: Running\"\n",
    "printmd('**Testing status: Running**  Wait till the process is completed')\n",
    "test_model = model_helper.ModelHelper(\n",
    "    name=\"mnist_test\", arg_scope=arg_scope, init_params=False)\n",
    "data, label = AddInput(\n",
    "    test_model, batch_size=100,\n",
    "    db=os.path.join(data_folder, 'mnist-test-nchw-lmdb'),\n",
    "    db_type='lmdb')\n",
    "softmax = AddModel(test_model, data)\n",
    "AddAccuracy(test_model, softmax, label)\n",
    "workspace.RunNetOnce(test_model.param_init_net)\n",
    "workspace.CreateNet(test_model.net, overwrite=True)\n",
    "test_iters_m = 1000\n",
    "test_accuracy_m = np.zeros(test_iters_m)\n",
    "for i in range(test_iters_m):\n",
    "    if(i%100 == 0):\n",
    "        print \"    Completed test set:\", i, \", Total sets to be tested:\", test_iters_m\n",
    "    workspace.RunNet(test_model.net.Proto().name)\n",
    "    test_accuracy_m[i] = workspace.FetchBlob('accuracy')\n",
    "#print \"Testing completed\"\n",
    "printmd('**Testing status: Completed**')\n",
    "# After the execution is done, let's plot the values.\n",
    "pyplot.plot(loss_m, 'b')\n",
    "pyplot.plot(accuracy_m, 'r')\n",
    "pyplot.legend(('Loss', 'Accuracy'), loc='upper right')"
   ]
  },
  {
   "cell_type": "code",
   "execution_count": 52,
   "metadata": {},
   "outputs": [
    {
     "data": {
      "text/markdown": [
       "**Effects of Initializers**"
      ],
      "text/plain": [
       "<IPython.core.display.Markdown object>"
      ]
     },
     "metadata": {},
     "output_type": "display_data"
    },
    {
     "data": {
      "text/html": [
       "<table border=\"1\" cellpadding=\"3\" cellspacing=\"0\"  style=\"border:black; border-collapse:collapse;\"><tr><td  style=\"background-color:LightGray;border-left: 1px solid;border-right: 1px solid;border-top: 1px solid;border-bottom: 1px solid;\"><b>Initializer&nbsp;Type</b></td><td  style=\"background-color:LightGray;border-left: 1px solid;border-right: 1px solid;border-top: 1px solid;border-bottom: 1px solid;\"><b>Num&nbsp;iterations</b></td><td  style=\"background-color:LightGray;border-left: 1px solid;border-right: 1px solid;border-top: 1px solid;border-bottom: 1px solid;\"><b>Init&nbsp;LR</b></td><td  style=\"background-color:LightGray;border-left: 1px solid;border-right: 1px solid;border-top: 1px solid;border-bottom: 1px solid;\"><b>Init&nbsp;Loss</b></td><td  style=\"background-color:LightGray;border-left: 1px solid;border-right: 1px solid;border-top: 1px solid;border-bottom: 1px solid;\"><b>Final&nbsp;Loss</b></td><td  style=\"background-color:LightGray;border-left: 1px solid;border-right: 1px solid;border-top: 1px solid;border-bottom: 1px solid;\"><b>Init&nbsp;Training-Acc(%)</b></td><td  style=\"background-color:LightGray;border-left: 1px solid;border-right: 1px solid;border-top: 1px solid;border-bottom: 1px solid;\"><b>Final&nbsp;Training-Acc(%)</b></td><td  style=\"background-color:LightGray;border-left: 1px solid;border-right: 1px solid;border-top: 1px solid;border-bottom: 1px solid;\"><b>Final&nbsp;Testing-Acc(%)</b></td></tr><tr><td  style=\"background-color:Ivory;border-left: 1px solid;border-right: 1px solid;border-top: 1px solid;border-bottom: 1px solid;\">Constant&nbsp;-&nbsp;high</td><td  style=\"background-color:Ivory;border-left: 1px solid;border-right: 1px solid;border-top: 1px solid;border-bottom: 1px solid;\">2000</td><td  style=\"background-color:Ivory;border-left: 1px solid;border-right: 1px solid;border-top: 1px solid;border-bottom: 1px solid;\">0.0010</td><td  style=\"background-color:Ivory;border-left: 1px solid;border-right: 1px solid;border-top: 1px solid;border-bottom: 1px solid;\">43.1735</td><td  style=\"background-color:Ivory;border-left: 1px solid;border-right: 1px solid;border-top: 1px solid;border-bottom: 1px solid;\">41.7344</td><td  style=\"background-color:Ivory;border-left: 1px solid;border-right: 1px solid;border-top: 1px solid;border-bottom: 1px solid;\">6.2500</td><td  style=\"background-color:Ivory;border-left: 1px solid;border-right: 1px solid;border-top: 1px solid;border-bottom: 1px solid;\">9.3750</td><td  style=\"background-color:Ivory;border-left: 1px solid;border-right: 1px solid;border-top: 1px solid;border-bottom: 1px solid;\">10.3200</td></tr><tr><td  style=\"background-color:AliceBlue;border-left: 1px solid;border-right: 1px solid;border-top: 1px solid;border-bottom: 1px solid;\">Constant&nbsp;-&nbsp;zero</td><td  style=\"background-color:AliceBlue;border-left: 1px solid;border-right: 1px solid;border-top: 1px solid;border-bottom: 1px solid;\">2000</td><td  style=\"background-color:AliceBlue;border-left: 1px solid;border-right: 1px solid;border-top: 1px solid;border-bottom: 1px solid;\">0.0010</td><td  style=\"background-color:AliceBlue;border-left: 1px solid;border-right: 1px solid;border-top: 1px solid;border-bottom: 1px solid;\">2.3026</td><td  style=\"background-color:AliceBlue;border-left: 1px solid;border-right: 1px solid;border-top: 1px solid;border-bottom: 1px solid;\">2.3023</td><td  style=\"background-color:AliceBlue;border-left: 1px solid;border-right: 1px solid;border-top: 1px solid;border-bottom: 1px solid;\">10.9375</td><td  style=\"background-color:AliceBlue;border-left: 1px solid;border-right: 1px solid;border-top: 1px solid;border-bottom: 1px solid;\">10.9375</td><td  style=\"background-color:AliceBlue;border-left: 1px solid;border-right: 1px solid;border-top: 1px solid;border-bottom: 1px solid;\">11.3500</td></tr><tr><td  style=\"background-color:Ivory;border-left: 1px solid;border-right: 1px solid;border-top: 1px solid;border-bottom: 1px solid;\">Xavier</td><td  style=\"background-color:Ivory;border-left: 1px solid;border-right: 1px solid;border-top: 1px solid;border-bottom: 1px solid;\">2000</td><td  style=\"background-color:Ivory;border-left: 1px solid;border-right: 1px solid;border-top: 1px solid;border-bottom: 1px solid;\">0.0010</td><td  style=\"background-color:Ivory;border-left: 1px solid;border-right: 1px solid;border-top: 1px solid;border-bottom: 1px solid;\">3.2040</td><td  style=\"background-color:Ivory;border-left: 1px solid;border-right: 1px solid;border-top: 1px solid;border-bottom: 1px solid;\">0.1746</td><td  style=\"background-color:Ivory;border-left: 1px solid;border-right: 1px solid;border-top: 1px solid;border-bottom: 1px solid;\">12.5000</td><td  style=\"background-color:Ivory;border-left: 1px solid;border-right: 1px solid;border-top: 1px solid;border-bottom: 1px solid;\">92.1875</td><td  style=\"background-color:Ivory;border-left: 1px solid;border-right: 1px solid;border-top: 1px solid;border-bottom: 1px solid;\">94.2800</td></tr><tr><td  style=\"background-color:AliceBlue;border-left: 1px solid;border-right: 1px solid;border-top: 1px solid;border-bottom: 1px solid;\">MSRA-Gaussian</td><td  style=\"background-color:AliceBlue;border-left: 1px solid;border-right: 1px solid;border-top: 1px solid;border-bottom: 1px solid;\">2000</td><td  style=\"background-color:AliceBlue;border-left: 1px solid;border-right: 1px solid;border-top: 1px solid;border-bottom: 1px solid;\">0.0010</td><td  style=\"background-color:AliceBlue;border-left: 1px solid;border-right: 1px solid;border-top: 1px solid;border-bottom: 1px solid;\">3.0503</td><td  style=\"background-color:AliceBlue;border-left: 1px solid;border-right: 1px solid;border-top: 1px solid;border-bottom: 1px solid;\">0.1932</td><td  style=\"background-color:AliceBlue;border-left: 1px solid;border-right: 1px solid;border-top: 1px solid;border-bottom: 1px solid;\">12.5000</td><td  style=\"background-color:AliceBlue;border-left: 1px solid;border-right: 1px solid;border-top: 1px solid;border-bottom: 1px solid;\">92.1875</td><td  style=\"background-color:AliceBlue;border-left: 1px solid;border-right: 1px solid;border-top: 1px solid;border-bottom: 1px solid;\">94.0900</td></tr></table>"
      ],
      "text/plain": [
       "<ipy_table.ipy_table.IpyTable at 0x7fe1d42b5e10>"
      ]
     },
     "execution_count": 52,
     "metadata": {},
     "output_type": "execute_result"
    }
   ],
   "source": [
    "printmd('**Effects of Initializers**')\n",
    "\n",
    "initializers = [\n",
    "    ['Initializer Type', 'Num iterations', 'Init LR', 'Init Loss', 'Final Loss', 'Init Training-Acc(%)', \\\n",
    "     'Final Training-Acc(%)', 'Final Testing-Acc(%)'],\n",
    "    ['Constant - high', total_iters_c_h, base_lr, loss_c_h[0], loss_c_h[total_iters_c_h-1], accuracy_c_h[0]*100, \\\n",
    "     accuracy_c_h[total_iters_c_h-1]*100, np.mean(test_accuracy_c_h)*100],\n",
    "    ['Constant - zero', total_iters_c_m, base_lr, loss_c_m[0], loss_c_m[total_iters_c_m-1], accuracy_c_m[0]*100, \\\n",
    "     accuracy_c_m[total_iters_c_m-1]*100, np.mean(test_accuracy_c_m)*100],\n",
    "    ['Xavier', total_iters_x, base_lr, loss_x[0], loss_x[total_iters_x-1], accuracy_x[0]*100, \\\n",
    "     accuracy_x[total_iters_x-1]*100, np.mean(test_accuracy_x)*100],\n",
    "    ['MSRA-Gaussian', total_iters_m, base_lr, loss_m[0], loss_m[total_iters_m-1], accuracy_m[0]*100, \\\n",
    "     accuracy_m[total_iters_m-1]*100, np.mean(test_accuracy_m)*100],\n",
    "\n",
    "];\n",
    "make_table(initializers)\n",
    "apply_theme('basic')"
   ]
  },
  {
   "cell_type": "code",
   "execution_count": null,
   "metadata": {},
   "outputs": [],
   "source": []
  }
 ],
 "metadata": {
  "kernelspec": {
   "display_name": "Python 2",
   "language": "python",
   "name": "python2"
  },
  "language_info": {
   "codemirror_mode": {
    "name": "ipython",
    "version": 2
   },
   "file_extension": ".py",
   "mimetype": "text/x-python",
   "name": "python",
   "nbconvert_exporter": "python",
   "pygments_lexer": "ipython2",
   "version": "2.7.6"
  }
 },
 "nbformat": 4,
 "nbformat_minor": 2
}
